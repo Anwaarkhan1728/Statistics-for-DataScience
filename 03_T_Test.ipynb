{
 "cells": [
  {
   "cell_type": "markdown",
   "id": "5f845e0e-431a-4e14-9f16-47aec224e62f",
   "metadata": {},
   "source": [
    "# T_test"
   ]
  },
  {
   "cell_type": "markdown",
   "id": "9f02fbda-7b5e-4b08-8877-91f1167f8a53",
   "metadata": {},
   "source": [
    "Continuous Data: \n",
    "\n",
    "The t-test is appropriate for data that is continuous, meaning the data can take on any value within a range. \n",
    "Examples include height, weight, temperature, and test scores.\n",
    "\n",
    "Normally Distributed Data: \n",
    "    \n",
    "Ideally, the data should be approximately normally distributed. This is particularly important for smaller sample sizes. \n",
    "For larger sample sizes (typically n > 30), the t-test is more robust to violations of normality due to the Central Limit Theorem.\n",
    "\n",
    "Independent Samples: \n",
    "    \n",
    "For an independent samples t-test (also known as an unpaired t-test), the data should come from two independent groups.\n",
    "Examples include comparing the test scores of two different classes or the weights of two different species.\n",
    "\n",
    "Paired Samples: \n",
    "    \n",
    "For a paired samples t-test (also known as a dependent t-test), the data should come from the same group at\n",
    "two different times or under two different conditions. \n",
    "    Examples include before-and-after measurements on the same subjects or comparing the left and\n",
    "    right hand strength of the same individuals."
   ]
  },
  {
   "cell_type": "markdown",
   "id": "5fbae133-9a17-4e6c-9aeb-8b52ad2ce3be",
   "metadata": {},
   "source": [
    "1:- One-Sample t-Test:\n",
    "Used to compare the mean of a single sample to a known value or a theoretical expectation.\n",
    "\n",
    "2:- Independent Samples t-Test:\n",
    "Used to compare the means of two independent groups to see if there is evidence that the associated population means are significantly different.\n",
    "\n",
    "3:- Paired Samples t-Test:\n",
    "Used to compare the means of two related groups, such as measurements taken on the same subjects at two different times."
   ]
  },
  {
   "cell_type": "markdown",
   "id": "4e8a892b-8ee4-420c-bc80-6ec2c7202bde",
   "metadata": {},
   "source": [
    "## One_sample T test"
   ]
  },
  {
   "cell_type": "code",
   "execution_count": 1,
   "id": "0c3fefa6-88b7-45cb-8cc0-f7ffe3362903",
   "metadata": {},
   "outputs": [
    {
     "name": "stdout",
     "output_type": "stream",
     "text": [
      "T_statistics :  0.0\n",
      "P_value : 1.0\n"
     ]
    }
   ],
   "source": [
    "import scipy.stats as stats\n",
    "\n",
    "#sample Data\n",
    "x= [1, 2, 3, 4, 5]\n",
    "\n",
    "#known population mean\n",
    "mu=3\n",
    "\n",
    "#preform one sample t test\n",
    "\n",
    "t_statistics, p= stats.ttest_1samp(x, mu)\n",
    "\n",
    "#Print results\n",
    "print(\"T_statistics : \", t_statistics)\n",
    "print(\"P_value :\", p)"
   ]
  },
  {
   "cell_type": "code",
   "execution_count": 2,
   "id": "4e748e63-ff0c-4562-9523-ebc6282ecd27",
   "metadata": {},
   "outputs": [
    {
     "name": "stdout",
     "output_type": "stream",
     "text": [
      "p_value: 1.0, sample mean is equal to the population mean (fail to reject H0)\n"
     ]
    }
   ],
   "source": [
    "#print the result using if condition\n",
    "if p>0.05:\n",
    "    print(f'p_value: {p}, sample mean is equal to the population mean (fail to reject H0)')\n",
    "else:\n",
    "    print(f'p_value: {p}, sample mean is not equal to the population mean (reject H0)')"
   ]
  },
  {
   "cell_type": "markdown",
   "id": "bac5e48a-7c50-498f-b23e-e38ff8422abe",
   "metadata": {},
   "source": [
    "# Two_sample t_test"
   ]
  },
  {
   "cell_type": "code",
   "execution_count": 3,
   "id": "4c3904bf-1747-49ad-adf3-f990ee48cb6a",
   "metadata": {},
   "outputs": [
    {
     "name": "stdout",
     "output_type": "stream",
     "text": [
      "t_stats : 1.8482055087756457\n",
      "p_value : 0.10175647371829193\n"
     ]
    }
   ],
   "source": [
    "# two sample t test\n",
    "\n",
    "import scipy.stats as stats\n",
    "\n",
    "# sample data\n",
    "\n",
    "G1= [2.3, 3.4, 4.5, 2.3, 3.4]\n",
    "G2= [1.2, 2.2, 3.2, 2.2, 2.3]\n",
    "\n",
    "# preform independent two sample t_test\n",
    "\n",
    "t_statistics, p= stats.ttest_ind(G1, G2)\n",
    "\n",
    "# print the results\n",
    "print(\"t_stats :\", t_statistics)\n",
    "print(\"p_value :\", p)"
   ]
  },
  {
   "cell_type": "code",
   "execution_count": 4,
   "id": "d28625c6-e3d2-406f-9c58-91f054a41d5f",
   "metadata": {},
   "outputs": [
    {
     "name": "stdout",
     "output_type": "stream",
     "text": [
      "p_value: 0.10175647371829193,G1 mean is equal to the G2 mean (fail to reject H0)\n"
     ]
    }
   ],
   "source": [
    "#print the result using if condition\n",
    "if p>0.05:\n",
    "    print(f'p_value: {p},G1 mean is equal to the G2 mean (fail to reject H0)')\n",
    "else:\n",
    "    print(f'p_value: {p}, G1 mean is not equal to the G2 mean (reject H0)')"
   ]
  },
  {
   "cell_type": "markdown",
   "id": "fae5eaa4-bc6e-4def-a51a-68c54a5014f4",
   "metadata": {},
   "source": [
    "# Paired sample t_test"
   ]
  },
  {
   "cell_type": "code",
   "execution_count": 5,
   "id": "a7a15865-bcaa-4833-892f-609385b3b59c",
   "metadata": {},
   "outputs": [
    {
     "name": "stdout",
     "output_type": "stream",
     "text": [
      "t_stats : -inf\n",
      "p_value : 0.0\n",
      "p_value: 0.0, before mean is not equal to the after mean (reject H0)\n"
     ]
    },
    {
     "name": "stderr",
     "output_type": "stream",
     "text": [
      "C:\\Users\\ustb\\anaconda3\\Lib\\site-packages\\scipy\\stats\\_axis_nan_policy.py:523: RuntimeWarning: Precision loss occurred in moment calculation due to catastrophic cancellation. This occurs when the data are nearly identical. Results may be unreliable.\n",
      "  res = hypotest_fun_out(*samples, **kwds)\n"
     ]
    }
   ],
   "source": [
    "import scipy.stats as stats\n",
    "\n",
    "# sample data\n",
    "before= [2, 3, 4, 5, 6]\n",
    "after= [3, 4, 5, 6, 7]\n",
    "\n",
    "# preform paired sample t_test\n",
    "\n",
    "t_statistics, p= stats.ttest_rel(before, after)\n",
    "\n",
    "# print the results\n",
    "print(\"t_stats :\", t_statistics)\n",
    "print(\"p_value :\", p)\n",
    "\n",
    "#print the result using if condition\n",
    "if p>0.05:\n",
    "    print(f'p_value: {p},before mean is equal to the after mean (fail to reject H0)')\n",
    "else:\n",
    "    print(f'p_value: {p}, before mean is not equal to the after mean (reject H0)')"
   ]
  },
  {
   "cell_type": "markdown",
   "id": "563e2168-92e6-45ec-b6dc-abddacb1f8ad",
   "metadata": {},
   "source": [
    "# In T_Test the sample size always less then 30\n",
    "# S_Size>30"
   ]
  },
  {
   "cell_type": "code",
   "execution_count": null,
   "id": "998b02bb-cb97-4338-a6b2-71ed9d4bd9c4",
   "metadata": {},
   "outputs": [],
   "source": []
  }
 ],
 "metadata": {
  "kernelspec": {
   "display_name": "Python 3 (ipykernel)",
   "language": "python",
   "name": "python3"
  },
  "language_info": {
   "codemirror_mode": {
    "name": "ipython",
    "version": 3
   },
   "file_extension": ".py",
   "mimetype": "text/x-python",
   "name": "python",
   "nbconvert_exporter": "python",
   "pygments_lexer": "ipython3",
   "version": "3.11.7"
  }
 },
 "nbformat": 4,
 "nbformat_minor": 5
}
