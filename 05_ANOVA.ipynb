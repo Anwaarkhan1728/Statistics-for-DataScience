{
 "cells": [
  {
   "cell_type": "markdown",
   "id": "b256e468-add2-4868-9e87-ad21f6d885b3",
   "metadata": {},
   "source": [
    "# ANOVA\n",
    "# Analysis of Variance"
   ]
  },
  {
   "cell_type": "markdown",
   "id": "c173c6f1-aaa1-4d88-a08e-7ded957ad04a",
   "metadata": {},
   "source": [
    "Continuous Data: \n",
    "\n",
    "ANOVA is appropriate for data that is continuous, meaning the data can take on any value within a range. \n",
    "Examples include height, weight, temperature, and test scores.\n",
    "\n",
    "Categorical Independent Variable(s): \n",
    "\n",
    "The independent variable(s) in an ANOVA must be categorical, meaning they represent different groups or categories. \n",
    "Examples include different treatment groups, educational levels, or types of diets.\n",
    "\n",
    "Normally Distributed Data: \n",
    "\n",
    "The data for each group should be approximately normally distributed. \n",
    "This assumption is particularly important for smaller sample sizes.\n",
    "\n",
    "Homogeneity of Variances: \n",
    "                                         \n",
    "The assumption of equal variances (homogeneity of variances) across the groups is important for ANOVA. \n",
    "This means the variances within each of the groups should be similar. Levene's test can be used to check this assumption.\n",
    "\n",
    "Independent Samples:\n",
    "                                                                                           \n",
    "The observations within each group should be independent of each other. \n",
    "This means the data points in one group should not be related to the data points in another group."
   ]
  },
  {
   "cell_type": "markdown",
   "id": "8b6c0cf2-ae51-41b0-946d-e3053452419d",
   "metadata": {},
   "source": [
    "## Types of ANOVA"
   ]
  },
  {
   "cell_type": "markdown",
   "id": "f3ac60ca-f49d-4ae5-9646-5293df46d24d",
   "metadata": {},
   "source": [
    "1:- One-Way ANOVA:\n",
    "\n",
    "Used when there is one independent categorical variable with two or more levels (groups).\n",
    "It tests whether the means of the different groups are significantly different.\n",
    "\n",
    "Example: Comparing the average test scores of students from three different teaching methods.\n",
    "\n",
    "2:- Two-Way ANOVA:\n",
    "\n",
    "Used when there are two independent categorical variables.\n",
    "It tests the main effects of each independent variable and the interaction effect between them.\n",
    "\n",
    "Example: Comparing the effects of different diets and exercise programs on weight loss, where diet and exercise are the two independent variables.\n",
    "\n",
    "3:- Repeated Measures ANOVA:\n",
    "\n",
    "Used when the same subjects are measured under different conditions or at different times.\n",
    "It is similar to the paired samples t-test but for more than two conditions or time points.\n",
    "\n",
    "Example: Comparing the performance of students on a test taken at three different times (beginning, middle, and end of the semester).\n",
    "\n",
    "4:- MANOVA (Multivariate Analysis of Variance):\n",
    "\n",
    "An extension of ANOVA that allows for multiple dependent variables to be analyzed simultaneously.\n",
    "\n",
    "Example: Comparing different teaching methods on students' test scores and their self-reported confidence levels."
   ]
  },
  {
   "cell_type": "markdown",
   "id": "9aeb241d-c227-475f-a91e-209edade1985",
   "metadata": {},
   "source": [
    "# ONE_Way ANOVA"
   ]
  },
  {
   "cell_type": "code",
   "execution_count": 1,
   "id": "9e2b90e2-fab6-44bd-930b-963b845b138d",
   "metadata": {},
   "outputs": [
    {
     "name": "stdout",
     "output_type": "stream",
     "text": [
      "f_statistics:  685.158469945347\n",
      "p_value:  4.279979561060641e-13\n",
      "p_value: 4.279979561060641e-13, Mean is not equal (reject H0)\n"
     ]
    }
   ],
   "source": [
    "import scipy.stats as stats\n",
    "\n",
    "# sample data\n",
    "a= [2.3, 3.4, 4.5, 2.3, 3.4]\n",
    "b= [11.2, 12.2, 13.2, 12.2, 12.3]\n",
    "c= [22.3, 23.4, 24.5, 22.3, 23.4]\n",
    "\n",
    "#prefoem One_way anova\n",
    "f_stats, p_value= stats.f_oneway(a, b, c)\n",
    "\n",
    "#print out the results\n",
    "print('f_statistics: ', f_stats)\n",
    "print('p_value: ', p_value)\n",
    "\n",
    "# print the results using if else condition\n",
    "if p_value>0.05:\n",
    "    print(f'p_value: {p_value},Mean is equal (fail to reject H0)')\n",
    "else:\n",
    "    print(f'p_value: {p_value}, Mean is not equal (reject H0)')"
   ]
  },
  {
   "cell_type": "code",
   "execution_count": 2,
   "id": "ff1f6f5c-82f3-44e2-b34d-1548e799b286",
   "metadata": {},
   "outputs": [
    {
     "name": "stdout",
     "output_type": "stream",
     "text": [
      "F_Statictics:  15.662162162162158\n",
      "P_value:  0.0004515404760997283\n",
      "Reject Null Hyposthesis: Mean=! P_value: {P_value} is less then 0.05\n"
     ]
    }
   ],
   "source": [
    "import scipy.stats as stats\n",
    "\n",
    "#Sample Data: Groth Plants using Three types of Fertilizer\n",
    "\n",
    "fer1= [20, 22, 19, 24, 25]\n",
    "fer2= [28, 30, 27, 26, 29]\n",
    "fer3= [18, 20, 22, 19, 24]\n",
    "\n",
    "# Perform One Way ANOVA\n",
    "f_stat, P_value= stats.f_oneway(fer1, fer2, fer3)\n",
    "\n",
    "# Print the results using\n",
    "print(\"F_Statictics: \" , f_stat)\n",
    "print(\"P_value: \" , P_value)\n",
    "\n",
    "# print the result using If Else condition\n",
    "if P_value < 0.05:\n",
    "    print(\"Reject Null Hyposthesis: Mean=! P_value: {P_value} is less then 0.05\")\n",
    "else:\n",
    "    print(\"Accepet Null Hyposthesis: Mean=P_value: {P_value} is greater then 0.05\")"
   ]
  },
  {
   "cell_type": "code",
   "execution_count": 3,
   "id": "4f3253ab-5437-4662-917d-f3aceaa3d2bf",
   "metadata": {},
   "outputs": [],
   "source": [
    "# One-way ANOVA using statsmodels\n",
    "import pandas as pd\n",
    "import statsmodels.api as sm\n",
    "from statsmodels.formula.api import ols"
   ]
  },
  {
   "cell_type": "code",
   "execution_count": 4,
   "id": "df7ced4b-9b7e-46b8-9c06-e8d3d4ccf7c4",
   "metadata": {},
   "outputs": [
    {
     "data": {
      "text/html": [
       "<div>\n",
       "<style scoped>\n",
       "    .dataframe tbody tr th:only-of-type {\n",
       "        vertical-align: middle;\n",
       "    }\n",
       "\n",
       "    .dataframe tbody tr th {\n",
       "        vertical-align: top;\n",
       "    }\n",
       "\n",
       "    .dataframe thead th {\n",
       "        text-align: right;\n",
       "    }\n",
       "</style>\n",
       "<table border=\"1\" class=\"dataframe\">\n",
       "  <thead>\n",
       "    <tr style=\"text-align: right;\">\n",
       "      <th></th>\n",
       "      <th>fertilizer</th>\n",
       "      <th>growth</th>\n",
       "    </tr>\n",
       "  </thead>\n",
       "  <tbody>\n",
       "    <tr>\n",
       "      <th>0</th>\n",
       "      <td>fer1</td>\n",
       "      <td>20</td>\n",
       "    </tr>\n",
       "    <tr>\n",
       "      <th>1</th>\n",
       "      <td>fer1</td>\n",
       "      <td>22</td>\n",
       "    </tr>\n",
       "    <tr>\n",
       "      <th>2</th>\n",
       "      <td>fer1</td>\n",
       "      <td>19</td>\n",
       "    </tr>\n",
       "    <tr>\n",
       "      <th>3</th>\n",
       "      <td>fer1</td>\n",
       "      <td>24</td>\n",
       "    </tr>\n",
       "    <tr>\n",
       "      <th>4</th>\n",
       "      <td>fer1</td>\n",
       "      <td>25</td>\n",
       "    </tr>\n",
       "  </tbody>\n",
       "</table>\n",
       "</div>"
      ],
      "text/plain": [
       "  fertilizer  growth\n",
       "0       fer1      20\n",
       "1       fer1      22\n",
       "2       fer1      19\n",
       "3       fer1      24\n",
       "4       fer1      25"
      ]
     },
     "execution_count": 4,
     "metadata": {},
     "output_type": "execute_result"
    }
   ],
   "source": [
    "# Create a dataframe\n",
    "df = pd.DataFrame({\"fertilizer\": [\"fer1\"] * 5 + [\"fer2\"] * 5 + [\"fer3\"] * 5,\n",
    "                   \"growth\": fer1 + fer2 + fer3})\n",
    "df.head()"
   ]
  },
  {
   "cell_type": "code",
   "execution_count": 5,
   "id": "400e9b9f-7117-496b-aaea-e7e9c1c672b3",
   "metadata": {},
   "outputs": [
    {
     "data": {
      "text/plain": [
       "fertilizer\n",
       "fer1    5\n",
       "fer2    5\n",
       "fer3    5\n",
       "Name: count, dtype: int64"
      ]
     },
     "execution_count": 5,
     "metadata": {},
     "output_type": "execute_result"
    }
   ],
   "source": [
    "df['fertilizer'].value_counts()"
   ]
  },
  {
   "cell_type": "code",
   "execution_count": 6,
   "id": "1eda416f-8b75-4758-b0a7-425915c0a5c7",
   "metadata": {},
   "outputs": [],
   "source": [
    "# Fit the model\n",
    "model = ols(\"growth ~ fertilizer\", data=df).fit()"
   ]
  },
  {
   "cell_type": "code",
   "execution_count": 10,
   "id": "8893dd98-3ac3-4443-814e-ee9ab4200279",
   "metadata": {},
   "outputs": [
    {
     "name": "stdout",
     "output_type": "stream",
     "text": [
      "                sum_sq    df          F    PR(>F)\n",
      "fertilizer  154.533333   2.0  15.662162  0.000452\n",
      "Residual     59.200000  12.0        NaN       NaN\n"
     ]
    }
   ],
   "source": [
    "# Perform ANOVA and print the summary table\n",
    "anova_table = sm.stats.anova_lm(model, typ=2)\n",
    "print(anova_table)"
   ]
  },
  {
   "cell_type": "code",
   "execution_count": 11,
   "id": "06131821-8a14-4253-bf03-93741156ebc0",
   "metadata": {},
   "outputs": [
    {
     "name": "stdout",
     "output_type": "stream",
     "text": [
      "Reject null hypothesis: The means are not equal, as the p-value: {p_val} is less than 0.05\n"
     ]
    },
    {
     "name": "stderr",
     "output_type": "stream",
     "text": [
      "C:\\Users\\ustb\\AppData\\Local\\Temp\\ipykernel_11136\\1383170519.py:2: FutureWarning: Series.__getitem__ treating keys as positions is deprecated. In a future version, integer keys will always be treated as labels (consistent with DataFrame behavior). To access a value by position, use `ser.iloc[pos]`\n",
      "  if anova_table[\"PR(>F)\"][0] < 0.05:\n"
     ]
    }
   ],
   "source": [
    "# print the results based on if the p-value is less than 0.05\n",
    "if anova_table[\"PR(>F)\"][0] < 0.05:\n",
    "    print(\"Reject null hypothesis: The means are not equal, as the p-value: {p_val} is less than 0.05\")\n",
    "else:\n",
    "    print(\"Accept null hypothesis: The means are equal, as the p-value: {p_val} is greater than 0.05\")"
   ]
  },
  {
   "cell_type": "code",
   "execution_count": 13,
   "id": "6f420f8b-f7a6-498c-9afe-f6d50aac36b2",
   "metadata": {},
   "outputs": [
    {
     "name": "stdout",
     "output_type": "stream",
     "text": [
      "                sum_sq    df          F    PR(>F)\n",
      "fertilizer  154.533333   2.0  15.662162  0.000452\n",
      "Residual     59.200000  12.0        NaN       NaN\n",
      "Reject null hypothesis: The means are not equal, as the p-value: {p_val} is less than 0.05\n"
     ]
    },
    {
     "name": "stderr",
     "output_type": "stream",
     "text": [
      "C:\\Users\\ustb\\AppData\\Local\\Temp\\ipykernel_11136\\1566312971.py:18: FutureWarning: Series.__getitem__ treating keys as positions is deprecated. In a future version, integer keys will always be treated as labels (consistent with DataFrame behavior). To access a value by position, use `ser.iloc[pos]`\n",
      "  if anova_table[\"PR(>F)\"][0] < 0.05:\n"
     ]
    }
   ],
   "source": [
    "# One-way ANOVA using statsmodels\n",
    "import pandas as pd\n",
    "import statsmodels.api as sm\n",
    "from statsmodels.formula.api import ols\n",
    "\n",
    "# Create a dataframe\n",
    "df = pd.DataFrame({\"fertilizer\": [\"fer1\"] * 5 + [\"fer2\"] * 5 + [\"fer3\"] * 5,\n",
    "                   \"growth\": fer1 + fer2 + fer3})\n",
    "\n",
    "# Fit the model\n",
    "model = ols(\"growth ~ fertilizer\", data=df).fit()\n",
    "\n",
    "# Perform ANOVA and print the summary table\n",
    "anova_table = sm.stats.anova_lm(model, typ=2)\n",
    "print(anova_table)\n",
    "\n",
    "# print the results based on if the p-value is less than 0.05\n",
    "if anova_table[\"PR(>F)\"][0] < 0.05:\n",
    "    print(\"Reject null hypothesis: The means are not equal, as the p-value: {p_val} is less than 0.05\")\n",
    "else:\n",
    "    print(\"Accept null hypothesis: The means are equal, as the p-value: {p_val} is greater than 0.05\")"
   ]
  },
  {
   "cell_type": "code",
   "execution_count": null,
   "id": "b3ce3fa1-f74b-4bda-83ae-16249b11f77f",
   "metadata": {},
   "outputs": [],
   "source": []
  },
  {
   "cell_type": "markdown",
   "id": "6b68ff15-6796-43af-af0a-5e3ce85dc817",
   "metadata": {},
   "source": [
    "# 2. TWO-WAY ANOVA"
   ]
  },
  {
   "cell_type": "code",
   "execution_count": 16,
   "id": "42a19804-df7f-46e2-835e-e787f21ae255",
   "metadata": {},
   "outputs": [
    {
     "name": "stdout",
     "output_type": "stream",
     "text": [
      "   Growth Fertilizer Sunlight\n",
      "0      20         F1     High\n",
      "1      22         F1     High\n",
      "2      19         F1     High\n",
      "3      24         F1     High\n",
      "4      25         F1     High\n",
      "                                 sum_sq    df             F        PR(>F)\n",
      "C(Fertilizer)              3.090667e+02   2.0  3.132432e+01  2.038888e-07\n",
      "C(Sunlight)                7.500000e+00   1.0  1.520270e+00  2.295198e-01\n",
      "C(Fertilizer):C(Sunlight)  6.442364e-29   2.0  6.529423e-30  1.000000e+00\n",
      "Residual                   1.184000e+02  24.0           NaN           NaN\n",
      "Reject null hypothesis: The means are not equal, as the p-value: {p_val} is less than 0.05\n"
     ]
    },
    {
     "name": "stderr",
     "output_type": "stream",
     "text": [
      "C:\\Users\\ustb\\AppData\\Local\\Temp\\ipykernel_11136\\1958862042.py:25: FutureWarning: Series.__getitem__ treating keys as positions is deprecated. In a future version, integer keys will always be treated as labels (consistent with DataFrame behavior). To access a value by position, use `ser.iloc[pos]`\n",
      "  if anova_table[\"PR(>F)\"][0] < 0.05:\n"
     ]
    }
   ],
   "source": [
    "import pandas as pd\n",
    "import statsmodels.api as sm\n",
    "from statsmodels.formula.api import ols\n",
    "\n",
    "# Sample data\n",
    "data = pd.DataFrame({\n",
    "    \"Growth\": [20, 22, 19, 24, 25, 28, 30, 27, 26, 29, 18, 20, 22, 19, 24,\n",
    "               21, 23, 20, 25, 26, 29, 31, 28, 27, 30, 19, 21, 23, 20, 25],\n",
    "    \"Fertilizer\": [\"F1\", \"F1\", \"F1\", \"F1\", \"F1\", \"F2\", \"F2\", \"F2\", \"F2\", \"F2\", \n",
    "                   \"F3\", \"F3\", \"F3\", \"F3\", \"F3\", \"F1\", \"F1\", \"F1\", \"F1\", \"F1\", \n",
    "                   \"F2\", \"F2\", \"F2\", \"F2\", \"F2\", \"F3\", \"F3\", \"F3\", \"F3\", \"F3\"],\n",
    "    \"Sunlight\": [\"High\", \"High\", \"High\", \"High\", \"High\", \"High\", \"High\", \"High\", \"High\", \"High\", \n",
    "                 \"High\", \"High\", \"High\", \"High\", \"High\", \"Low\", \"Low\", \"Low\", \"Low\", \"Low\", \n",
    "                 \"Low\", \"Low\", \"Low\", \"Low\", \"Low\", \"Low\", \"Low\", \"Low\", \"Low\", \"Low\"]\n",
    "})\n",
    "print(data.head())\n",
    "# Perform two-way ANOVA\n",
    "model = ols('Growth ~ C(Fertilizer) + C(Sunlight) + C(Fertilizer):C(Sunlight)', data=data).fit()\n",
    "anova_table = sm.stats.anova_lm(model, typ=2)\n",
    "\n",
    "print(anova_table)\n",
    "\n",
    "# print the results based on if the p-value is less than 0.05\n",
    "\n",
    "if anova_table[\"PR(>F)\"][0] < 0.05:\n",
    "    print(\"Reject null hypothesis: The means are not equal, as the p-value: {p_val} is less than 0.05\")\n",
    "else:\n",
    "    print(\"Accept null hypothesis: The means are equal, as the p-value: {p_val} is greater than 0.05\")"
   ]
  },
  {
   "cell_type": "markdown",
   "id": "d2b6c5ac-ea51-45f9-9eb1-4f2f42e5e0c5",
   "metadata": {},
   "source": [
    "# Interpretation"
   ]
  },
  {
   "cell_type": "markdown",
   "id": "7aed4aa3-09d5-408c-b4bc-84894ef59958",
   "metadata": {},
   "source": [
    "#### For One-Way ANOVA, if the p-value is less than 0.05, it suggests a significant difference in means among the groups.\n",
    "\n",
    "#### For Two-Way ANOVA, we look at the p-values for each factor and their interaction. A p-value less than 0.05 indicates a significant effect."
   ]
  },
  {
   "cell_type": "markdown",
   "id": "566bc4a1-a4e1-4cba-a86c-8084762f347b",
   "metadata": {},
   "source": [
    "###### These examples should give you a good starting point for conducting ANOVA analyses in Python.\n",
    "###### Remember, the interpretation of your results should always take into account the context of your data and the specific question you are trying to answer."
   ]
  },
  {
   "cell_type": "markdown",
   "id": "edfdeab6-1b2b-4423-a318-aaf81044c34e",
   "metadata": {},
   "source": [
    "# N-way ANOVA"
   ]
  },
  {
   "cell_type": "markdown",
   "id": "528e7f34-af4d-4830-9d3f-9a625c7f2f7f",
   "metadata": {},
   "source": [
    "##### N-way ANOVA, also known as factorial ANOVA, is used when you have more than two independent variables.\n",
    "##### It allows you to analyze the effects of each factor on the dependent variable and the interaction effects between factors."
   ]
  },
  {
   "cell_type": "markdown",
   "id": "a0602a2f-ba7f-4fed-b371-55fa3db5c1c3",
   "metadata": {},
   "source": [
    "### Example: Three-Way ANOVA"
   ]
  },
  {
   "cell_type": "markdown",
   "id": "3c581088-b2f7-47e5-ac87-c3e8bb085950",
   "metadata": {},
   "source": [
    "###### Suppose we have an experimental data set with three factors:"
   ]
  },
  {
   "cell_type": "markdown",
   "id": "be567903-5b68-4870-8673-4378b83011b6",
   "metadata": {},
   "source": [
    "## 1:-  Fertilizer Type (3 levels: F1, F2, F3)\n",
    "## 2:-  Sunlight Exposure (2 levels: High, Low)\n",
    "## 3:-  Watering Frequency (2 levels: Regular, Sparse)\n",
    "\n",
    "##### We want to study the impact of these factors and their interactions on plant growth."
   ]
  },
  {
   "cell_type": "code",
   "execution_count": 18,
   "id": "0656d194-6faa-4866-bc53-601f9856816a",
   "metadata": {},
   "outputs": [
    {
     "name": "stdout",
     "output_type": "stream",
     "text": [
      "                                             sum_sq    df             F  \\\n",
      "C(Fertilizer)                          2.333867e+02   2.0  2.893223e+01   \n",
      "C(Sunlight)                           -2.159294e-12   1.0 -5.353622e-13   \n",
      "C(Watering)                            1.024314e+01   1.0  2.539620e+00   \n",
      "C(Fertilizer):C(Sunlight)             -4.861072e-13   2.0 -6.026122e-14   \n",
      "C(Fertilizer):C(Watering)              9.531901e-01   2.0  1.181641e-01   \n",
      "C(Sunlight):C(Watering)                2.054444e+01   1.0  5.093664e+00   \n",
      "C(Fertilizer):C(Sunlight):C(Watering)  1.088889e+00   2.0  1.349862e-01   \n",
      "Residual                               1.573000e+02  39.0           NaN   \n",
      "\n",
      "                                             PR(>F)  \n",
      "C(Fertilizer)                          1.974932e-08  \n",
      "C(Sunlight)                            1.000000e+00  \n",
      "C(Watering)                            1.190950e-01  \n",
      "C(Fertilizer):C(Sunlight)              1.000000e+00  \n",
      "C(Fertilizer):C(Watering)              8.888672e-01  \n",
      "C(Sunlight):C(Watering)                2.969139e-02  \n",
      "C(Fertilizer):C(Sunlight):C(Watering)  8.741344e-01  \n",
      "Residual                                        NaN  \n",
      "Reject null hypothesis: The means are not equal, as the p-value: {p_val} is less than 0.05\n"
     ]
    },
    {
     "name": "stderr",
     "output_type": "stream",
     "text": [
      "C:\\Users\\ustb\\AppData\\Local\\Temp\\ipykernel_11136\\2917675503.py:42: FutureWarning: Series.__getitem__ treating keys as positions is deprecated. In a future version, integer keys will always be treated as labels (consistent with DataFrame behavior). To access a value by position, use `ser.iloc[pos]`\n",
      "  if anova_results[\"PR(>F)\"][0] < 0.05:\n"
     ]
    }
   ],
   "source": [
    "import pandas as pd\n",
    "import statsmodels.api as sm\n",
    "from statsmodels.formula.api import ols\n",
    "\n",
    "# Sample data\n",
    "data = pd.DataFrame({\n",
    "    \"Growth\": [20, 22, 19, 24, 25, 28, 30, 27, 26, 29, 18, 20, 22, 19, 24,\n",
    "               21, 23, 20, 25, 26, 29, 31, 28, 27, 30, 19, 21, 23, 20, 25,\n",
    "               20, 22, 21, 23, 24, 26, 28, 25, 27, 29, 17, 19, 21, 18, 20],\n",
    "    \"Fertilizer\": [\"F1\", \"F1\", \"F1\", \"F1\", \"F1\", \"F2\", \"F2\", \"F2\", \"F2\", \"F2\", \n",
    "                   \"F3\", \"F3\", \"F3\", \"F3\", \"F3\", \"F1\", \"F1\", \"F1\", \"F1\", \"F1\", \n",
    "                   \"F2\", \"F2\", \"F2\", \"F2\", \"F2\", \"F3\", \"F3\", \"F3\", \"F3\", \"F3\",\n",
    "                   \"F1\", \"F1\", \"F1\", \"F1\", \"F1\", \"F2\", \"F2\", \"F2\", \"F2\", \"F2\", \n",
    "                   \"F3\", \"F3\", \"F3\", \"F3\", \"F3\"],\n",
    "    \"Sunlight\": [\"High\", \"High\", \"High\", \"High\", \"High\", \"High\", \"High\", \"High\", \"High\", \"High\", \n",
    "                 \"High\", \"High\", \"High\", \"High\", \"High\", \"Low\", \"Low\", \"Low\", \"Low\", \"Low\", \n",
    "                 \"Low\", \"Low\", \"Low\", \"Low\", \"Low\", \"Low\", \"Low\", \"Low\", \"Low\", \"Low\",\n",
    "                 \"High\", \"High\", \"High\", \"High\", \"High\", \"High\", \"High\", \"High\", \"High\", \"High\", \n",
    "                 \"High\", \"High\", \"High\", \"High\", \"High\"],\n",
    "    \"Watering\": [\"Regular\", \"Regular\", \"Regular\", \"Regular\", \"Regular\", \n",
    "                 \"Regular\", \"Regular\", \"Regular\", \"Regular\", \"Regular\",\n",
    "                 \"Regular\", \"Regular\", \"Regular\", \"Regular\", \"Regular\",\n",
    "                 \"Sparse\", \"Sparse\", \"Sparse\", \"Sparse\", \"Sparse\", \n",
    "                 \"Sparse\", \"Sparse\", \"Sparse\", \"Sparse\", \"Sparse\",\n",
    "                 \"Sparse\", \"Sparse\", \"Sparse\", \"Sparse\", \"Sparse\",\n",
    "                 \"Regular\", \"Regular\", \"Regular\", \"Regular\", \"Regular\", \n",
    "                 \"Regular\", \"Regular\", \"Regular\", \"Regular\", \"Regular\",\n",
    "                 \"Regular\", \"Regular\", \"Regular\", \"Regular\", \"Regular\"]\n",
    "})\n",
    "\n",
    "# Fit the model\n",
    "model = ols('Growth ~ C(Fertilizer) + C(Sunlight) + C(Watering) + C(Fertilizer):C(Sunlight)+ C(Fertilizer):C(Watering) + C(Sunlight):C(Watering) + C(Fertilizer):C(Sunlight):C(Watering)', data=data).fit()\n",
    "\n",
    "# Perform three-way ANOVA\n",
    "anova_results = sm.stats.anova_lm(model, typ=2)\n",
    "\n",
    "print(anova_results)\n",
    "\n",
    "\n",
    "# print the results based on if the p-value is less than 0.05\n",
    "\n",
    "if anova_results[\"PR(>F)\"][0] < 0.05:\n",
    "    print(\"Reject null hypothesis: The means are not equal, as the p-value: {p_val} is less than 0.05\")\n",
    "else:\n",
    "    print(\"Fail to reject null hypothesis: The means are equal, as the p-value: {p_val} is greater than 0.05\")"
   ]
  },
  {
   "cell_type": "markdown",
   "id": "c4daedd5-0ff6-46a9-8f8a-9e69dc3110ce",
   "metadata": {},
   "source": [
    "# Interpretation"
   ]
  },
  {
   "cell_type": "markdown",
   "id": "f262a925-9f72-4b32-ba60-1d004516052c",
   "metadata": {},
   "source": [
    "###### In the output, you'll see p-values for:"
   ]
  },
  {
   "cell_type": "markdown",
   "id": "a4820499-da98-4bb6-a557-6e1028563eec",
   "metadata": {},
   "source": [
    "##### The main effects of each factor (Fertilizer, Sunlight, Watering)\n",
    "##### The interaction effects between two factors (e.g., Fertilizer:Sunlight)\n",
    "##### The interaction effect among all three factors (Fertilizer:Sunlight:Watering)"
   ]
  },
  {
   "cell_type": "markdown",
   "id": "54005839-bbcf-43d7-8aaf-cdf5df46e8bf",
   "metadata": {},
   "source": [
    "A p-value less than 0.05 typically suggests a statistically significant effect.\n",
    "However, interpreting ANOVA results can be complex, especially with interactions.\n",
    "You should consider the practical significance and the context of your experiment alongside the statistical results."
   ]
  },
  {
   "cell_type": "markdown",
   "id": "f510b649-5527-412b-871a-e0e5312719e1",
   "metadata": {},
   "source": [
    "Remember, ANOVA makes certain assumptions (normality, homogeneity of variance, and independence), which should be tested before running the analysis."
   ]
  },
  {
   "cell_type": "markdown",
   "id": "7546db5c-345a-43f8-9c9c-9ed93668dc41",
   "metadata": {},
   "source": [
    "# Post-hoc Tests"
   ]
  },
  {
   "cell_type": "markdown",
   "id": "a8d4b6fb-4f37-4fe5-aee3-99f3179b5b63",
   "metadata": {},
   "source": [
    "After conducting an ANOVA and finding a significant difference, a post hoc test is needed to determine exactly which groups differ from each other.\n",
    "Here, I'll demonstrate post hoc tests for one-way, two-way, and N-way ANOVA using Python."
   ]
  },
  {
   "cell_type": "markdown",
   "id": "cb99c8d3-47e4-46eb-a478-8fff6d2904f5",
   "metadata": {},
   "source": [
    "## Post-hoc Tests for One-Way ANOVA"
   ]
  },
  {
   "cell_type": "code",
   "execution_count": 20,
   "id": "77656194-6b32-484f-a7aa-11cb4e215565",
   "metadata": {},
   "outputs": [
    {
     "name": "stdout",
     "output_type": "stream",
     "text": [
      " Multiple Comparison of Means - Tukey HSD, FWER=0.05 \n",
      "=====================================================\n",
      "group1 group2 meandiff p-adj   lower    upper  reject\n",
      "-----------------------------------------------------\n",
      "    F1     F2      6.0 0.0029   2.2523  9.7477   True\n",
      "    F1     F3     -1.4 0.5928  -5.1477  2.3477  False\n",
      "    F2     F3     -7.4 0.0005 -11.1477 -3.6523   True\n",
      "-----------------------------------------------------\n"
     ]
    }
   ],
   "source": [
    "from statsmodels.stats.multicomp import pairwise_tukeyhsd\n",
    "import numpy as np\n",
    "\n",
    "# Sample data\n",
    "data = {\n",
    "    'Growth': np.concatenate([fer1, fer2, fer3]),\n",
    "    'Fertilizer': ['F1']*len(fer1) + ['F2']*len(fer2) + ['F3']*len(fer3)\n",
    "}\n",
    "\n",
    "# Convert to DataFrame\n",
    "df = pd.DataFrame(data)\n",
    "\n",
    "# Tukey's HSD test\n",
    "tukey = pairwise_tukeyhsd(endog=df['Growth'], groups=df['Fertilizer'], alpha=0.05)\n",
    "print(tukey)"
   ]
  },
  {
   "cell_type": "markdown",
   "id": "3cba65b1-8f20-4e5c-996a-bcc5d8df712c",
   "metadata": {},
   "source": [
    "## Post-hoc Tests for Two-Way ANOVA"
   ]
  },
  {
   "cell_type": "code",
   "execution_count": 21,
   "id": "20101c06-c22c-4332-95b6-69b84bb0ed5d",
   "metadata": {},
   "outputs": [
    {
     "name": "stdout",
     "output_type": "stream",
     "text": [
      " Multiple Comparison of Means - Tukey HSD, FWER=0.05 \n",
      "=====================================================\n",
      "group1 group2 meandiff p-adj   lower    upper  reject\n",
      "-----------------------------------------------------\n",
      "F1High  F1Low      1.0 0.9786  -3.3434  5.3434  False\n",
      "F1High F2High      6.0 0.0032   1.6566 10.3434   True\n",
      "F1High  F2Low      7.0 0.0006   2.6566 11.3434   True\n",
      "F1High F3High     -1.4 0.9145  -5.7434  2.9434  False\n",
      "F1High  F3Low     -0.4 0.9997  -4.7434  3.9434  False\n",
      " F1Low F2High      5.0 0.0176   0.6566  9.3434   True\n",
      " F1Low  F2Low      6.0 0.0032   1.6566 10.3434   True\n",
      " F1Low F3High     -2.4 0.5396  -6.7434  1.9434  False\n",
      " F1Low  F3Low     -1.4 0.9145  -5.7434  2.9434  False\n",
      "F2High  F2Low      1.0 0.9786  -3.3434  5.3434  False\n",
      "F2High F3High     -7.4 0.0003 -11.7434 -3.0566   True\n",
      "F2High  F3Low     -6.4 0.0016 -10.7434 -2.0566   True\n",
      " F2Low F3High     -8.4    0.0 -12.7434 -4.0566   True\n",
      " F2Low  F3Low     -7.4 0.0003 -11.7434 -3.0566   True\n",
      "F3High  F3Low      1.0 0.9786  -3.3434  5.3434  False\n",
      "-----------------------------------------------------\n"
     ]
    }
   ],
   "source": [
    "from statsmodels.stats.multicomp import pairwise_tukeyhsd\n",
    "import pandas as pd\n",
    "import statsmodels.api as sm\n",
    "from statsmodels.formula.api import ols\n",
    "\n",
    "# Sample data\n",
    "data = pd.DataFrame({\n",
    "    \"Growth\": [20, 22, 19, 24, 25, 28, 30, 27, 26, 29, 18, 20, 22, 19, 24,\n",
    "               21, 23, 20, 25, 26, 29, 31, 28, 27, 30, 19, 21, 23, 20, 25],\n",
    "    \"Fertilizer\": [\"F1\", \"F1\", \"F1\", \"F1\", \"F1\", \"F2\", \"F2\", \"F2\", \"F2\", \"F2\", \n",
    "                   \"F3\", \"F3\", \"F3\", \"F3\", \"F3\", \"F1\", \"F1\", \"F1\", \"F1\", \"F1\", \n",
    "                   \"F2\", \"F2\", \"F2\", \"F2\", \"F2\", \"F3\", \"F3\", \"F3\", \"F3\", \"F3\"],\n",
    "    \"Sunlight\": [\"High\", \"High\", \"High\", \"High\", \"High\", \"High\", \"High\", \"High\", \"High\", \"High\", \n",
    "                 \"High\", \"High\", \"High\", \"High\", \"High\", \"Low\", \"Low\", \"Low\", \"Low\", \"Low\", \n",
    "                 \"Low\", \"Low\", \"Low\", \"Low\", \"Low\", \"Low\", \"Low\", \"Low\", \"Low\", \"Low\"]\n",
    "})\n",
    "\n",
    "tukey = pairwise_tukeyhsd(data['Growth'], data['Fertilizer'] + data['Sunlight'], alpha=0.05)\n",
    "print(tukey)"
   ]
  },
  {
   "cell_type": "markdown",
   "id": "3447bbf4-fdee-48fb-b9df-a03845d8369f",
   "metadata": {},
   "source": [
    "## Post-hoc Tests for N-Way ANOVA (Factorial ANOVA)"
   ]
  },
  {
   "cell_type": "code",
   "execution_count": 22,
   "id": "36fd1644-25ba-41f1-b4eb-f13556d83b89",
   "metadata": {},
   "outputs": [
    {
     "name": "stdout",
     "output_type": "stream",
     "text": [
      "        Multiple Comparison of Means - Tukey HSD, FWER=0.05        \n",
      "===================================================================\n",
      "    group1        group2    meandiff p-adj   lower    upper  reject\n",
      "-------------------------------------------------------------------\n",
      "F1HighRegular   F1LowSparse      1.0 0.9419  -2.2956  4.2956  False\n",
      "F1HighRegular F2HighRegular      5.5    0.0   2.8092  8.1908   True\n",
      "F1HighRegular   F2LowSparse      7.0    0.0   3.7044 10.2956   True\n",
      "F1HighRegular F3HighRegular     -2.2 0.1647  -4.8908  0.4908  False\n",
      "F1HighRegular   F3LowSparse     -0.4 0.9991  -3.6956  2.8956  False\n",
      "  F1LowSparse F2HighRegular      4.5 0.0027   1.2044  7.7956   True\n",
      "  F1LowSparse   F2LowSparse      6.0 0.0004   2.1946  9.8054   True\n",
      "  F1LowSparse F3HighRegular     -3.2 0.0613  -6.4956  0.0956  False\n",
      "  F1LowSparse   F3LowSparse     -1.4 0.8775  -5.2054  2.4054  False\n",
      "F2HighRegular   F2LowSparse      1.5 0.7478  -1.7956  4.7956  False\n",
      "F2HighRegular F3HighRegular     -7.7    0.0 -10.3908 -5.0092   True\n",
      "F2HighRegular   F3LowSparse     -5.9 0.0001  -9.1956 -2.6044   True\n",
      "  F2LowSparse F3HighRegular     -9.2    0.0 -12.4956 -5.9044   True\n",
      "  F2LowSparse   F3LowSparse     -7.4    0.0 -11.2054 -3.5946   True\n",
      "F3HighRegular   F3LowSparse      1.8 0.5804  -1.4956  5.0956  False\n",
      "-------------------------------------------------------------------\n"
     ]
    }
   ],
   "source": [
    "from statsmodels.stats.multicomp import pairwise_tukeyhsd\n",
    "# Sample data\n",
    "data = pd.DataFrame({\n",
    "    \"Growth\": [20, 22, 19, 24, 25, 28, 30, 27, 26, 29, 18, 20, 22, 19, 24,\n",
    "               21, 23, 20, 25, 26, 29, 31, 28, 27, 30, 19, 21, 23, 20, 25,\n",
    "               20, 22, 21, 23, 24, 26, 28, 25, 27, 29, 17, 19, 21, 18, 20],\n",
    "    \"Fertilizer\": [\"F1\", \"F1\", \"F1\", \"F1\", \"F1\", \"F2\", \"F2\", \"F2\", \"F2\", \"F2\", \n",
    "                   \"F3\", \"F3\", \"F3\", \"F3\", \"F3\", \"F1\", \"F1\", \"F1\", \"F1\", \"F1\", \n",
    "                   \"F2\", \"F2\", \"F2\", \"F2\", \"F2\", \"F3\", \"F3\", \"F3\", \"F3\", \"F3\",\n",
    "                   \"F1\", \"F1\", \"F1\", \"F1\", \"F1\", \"F2\", \"F2\", \"F2\", \"F2\", \"F2\", \n",
    "                   \"F3\", \"F3\", \"F3\", \"F3\", \"F3\"],\n",
    "    \"Sunlight\": [\"High\", \"High\", \"High\", \"High\", \"High\", \"High\", \"High\", \"High\", \"High\", \"High\", \n",
    "                 \"High\", \"High\", \"High\", \"High\", \"High\", \"Low\", \"Low\", \"Low\", \"Low\", \"Low\", \n",
    "                 \"Low\", \"Low\", \"Low\", \"Low\", \"Low\", \"Low\", \"Low\", \"Low\", \"Low\", \"Low\",\n",
    "                 \"High\", \"High\", \"High\", \"High\", \"High\", \"High\", \"High\", \"High\", \"High\", \"High\", \n",
    "                 \"High\", \"High\", \"High\", \"High\", \"High\"],\n",
    "    \"Watering\": [\"Regular\", \"Regular\", \"Regular\", \"Regular\", \"Regular\", \n",
    "                 \"Regular\", \"Regular\", \"Regular\", \"Regular\", \"Regular\",\n",
    "                 \"Regular\", \"Regular\", \"Regular\", \"Regular\", \"Regular\",\n",
    "                 \"Sparse\", \"Sparse\", \"Sparse\", \"Sparse\", \"Sparse\", \n",
    "                 \"Sparse\", \"Sparse\", \"Sparse\", \"Sparse\", \"Sparse\",\n",
    "                 \"Sparse\", \"Sparse\", \"Sparse\", \"Sparse\", \"Sparse\",\n",
    "                 \"Regular\", \"Regular\", \"Regular\", \"Regular\", \"Regular\", \n",
    "                 \"Regular\", \"Regular\", \"Regular\", \"Regular\", \"Regular\",\n",
    "                 \"Regular\", \"Regular\", \"Regular\", \"Regular\", \"Regular\"]\n",
    "})\n",
    "\n",
    "tukey = pairwise_tukeyhsd(data['Growth'], data['Fertilizer'] + data['Sunlight'] + data['Watering'], alpha=0.05)\n",
    "print(tukey)"
   ]
  },
  {
   "cell_type": "markdown",
   "id": "48dbe9e0-b9a1-48e2-bd1b-3d525ccc9ca2",
   "metadata": {},
   "source": [
    "# Important Considerations:"
   ]
  },
  {
   "cell_type": "markdown",
   "id": "2902174a-4e8b-4f4d-b639-0d2f4d5caff1",
   "metadata": {},
   "source": [
    "Interpreting Results:"
   ]
  },
  {
   "cell_type": "markdown",
   "id": "e9fe5e87-8d3a-4f3a-871e-6a5f073ac161",
   "metadata": {},
   "source": [
    "##### Tukey's test results will show pairwise comparisons between groups and indicate which differences are statistically significant."
   ]
  },
  {
   "cell_type": "markdown",
   "id": "51c23327-51fc-45af-8bab-88cb409a9bd5",
   "metadata": {},
   "source": [
    "## Alpha Level:"
   ]
  },
  {
   "cell_type": "markdown",
   "id": "2a355355-7d85-4dad-8d6d-5218af6defa2",
   "metadata": {},
   "source": [
    "The alpha parameter is typically set at 0.05, which is the threshold for significance."
   ]
  },
  {
   "cell_type": "markdown",
   "id": "83358187-94cf-4adc-a107-e4a99b617a6a",
   "metadata": {},
   "source": [
    "## Assumptions:"
   ]
  },
  {
   "cell_type": "markdown",
   "id": "0fa3b722-bb55-465e-bc19-91c4e6d56be7",
   "metadata": {},
   "source": [
    "Like ANOVA, Tukey's HSD assumes homogeneity of variances and normally distributed data within each group."
   ]
  },
  {
   "cell_type": "markdown",
   "id": "219e301c-cc06-46fc-a258-a5eb3e125a40",
   "metadata": {},
   "source": [
    "These examples provide a basic framework for conducting post hoc analyses in Python. \n",
    "The specific methods and interpretations will depend on your data and the context of your research."
   ]
  },
  {
   "cell_type": "markdown",
   "id": "8f3de218-fb9c-4eef-9199-28cf2dc378ef",
   "metadata": {},
   "source": [
    "# Bonferri Correction"
   ]
  },
  {
   "cell_type": "markdown",
   "id": "5d0a0b04-f8f4-4edf-b4e3-f3b8fad83317",
   "metadata": {},
   "source": [
    "The Bonferroni test is a type of post hoc analysis used after conducting ANOVA when multiple pairwise comparisons are needed.\n",
    "It's a conservative method that adjusts the significance level to account for the increased risk of Type I errors (false positives) due to multiple testing.\n",
    "The Bonferroni correction simply divides the alpha level by the number of comparisons."
   ]
  },
  {
   "cell_type": "code",
   "execution_count": 24,
   "id": "4d75c1a2-31f7-439b-8755-574bf7756b2a",
   "metadata": {},
   "outputs": [
    {
     "name": "stdout",
     "output_type": "stream",
     "text": [
      "F1 vs F2: t-statistic = -4.472, p-value (adjusted) = 0.006\n",
      "F1 vs F3: t-statistic = 0.893, p-value (adjusted) = 1.194\n",
      "F2 vs F3: t-statistic = 5.744, p-value (adjusted) = 0.001\n"
     ]
    }
   ],
   "source": [
    "import scipy.stats as stats\n",
    "import pandas as pd\n",
    "\n",
    "# Sample data\n",
    "fertilizer1 = [20, 22, 19, 24, 25]\n",
    "fertilizer2 = [28, 30, 27, 26, 29]\n",
    "fertilizer3 = [18, 20, 22, 19, 24]\n",
    "\n",
    "# Create DataFrame\n",
    "data = {\n",
    "    'Growth': fertilizer1 + fertilizer2 + fertilizer3,\n",
    "    'Fertilizer': ['F1']*len(fertilizer1) + ['F2']*len(fertilizer2) + ['F3']*len(fertilizer3)\n",
    "}\n",
    "df = pd.DataFrame(data)\n",
    "\n",
    "# Number of comparisons\n",
    "num_comparisons = 3 # For 3 groups, we have 3 pairwise comparisons (F1 vs F2, F1 vs F3, F2 vs F3)\n",
    "\n",
    "# Adjusted alpha level (for significance)\n",
    "alpha = 0.05 / num_comparisons\n",
    "\n",
    "# Conduct pairwise t-tests with Bonferroni correction\n",
    "pairwise_results = []\n",
    "for group1 in df['Fertilizer'].unique():\n",
    "    for group2 in df['Fertilizer'].unique():\n",
    "        if group1 < group2: # To avoid duplicate comparisons\n",
    "            group1_data = df[df['Fertilizer'] == group1]['Growth']\n",
    "            group2_data = df[df['Fertilizer'] == group2]['Growth']\n",
    "            t_stat, p_val = stats.ttest_ind(group1_data, group2_data)\n",
    "            p_val_adjusted = p_val * num_comparisons\n",
    "            pairwise_results.append((f'{group1} vs {group2}', t_stat, p_val_adjusted))\n",
    "\n",
    "# Print results\n",
    "for result in pairwise_results:\n",
    "    group_comparison, t_stat, p_val_adjusted = result\n",
    "    print(f\"{group_comparison}: t-statistic = {t_stat:.3f}, p-value (adjusted) = {p_val_adjusted:.3f}\")"
   ]
  },
  {
   "cell_type": "markdown",
   "id": "9a9b647c-11db-43da-8fe2-1f0305628209",
   "metadata": {},
   "source": [
    "## Interpretation"
   ]
  },
  {
   "cell_type": "markdown",
   "id": "7264c936-bd09-4b9e-95e8-5ef417fe965f",
   "metadata": {},
   "source": [
    "Each pairwise comparison is adjusted for multiple testing.\n",
    "\n",
    "A significant result (adjusted p-value < 0.05) indicates a significant difference between those groups.\n",
    "\n",
    "This method is conservative and reduces the chance of Type I errors but increases the chance of Type II errors (false negatives)."
   ]
  },
  {
   "cell_type": "markdown",
   "id": "a18fe43c-4ea8-44fd-a375-053f5f86e5ac",
   "metadata": {},
   "source": [
    "### Notes:"
   ]
  },
  {
   "cell_type": "markdown",
   "id": "e1a45e60-6717-46a4-952b-77b8a494cd65",
   "metadata": {},
   "source": [
    "The Bonferroni test is appropriate when you have a small number of comparisons.With a large number of comparisons, it becomes overly conservative.\n",
    "\n",
    "The method assumes independent tests and may not be suitable for all types of data or comparisons."
   ]
  },
  {
   "cell_type": "markdown",
   "id": "36370169-18b2-4baf-843a-b3b437125d49",
   "metadata": {},
   "source": [
    "##### Types of PostHoc Tests with their pros and cons."
   ]
  },
  {
   "cell_type": "markdown",
   "id": "fbdc8e05-feb1-48fe-87e4-f37d4125cc87",
   "metadata": {},
   "source": [
    "There are several post hoc tests used in statistics, each with its own strengths and weaknesses.\n",
    "Here's a table summarizing some of the most common tests:"
   ]
  },
  {
   "attachments": {
    "a5cb7313-77a9-413d-ac67-11841971b154.png": {
     "image/png": "[encoded data removed]"
    }
   },
   "cell_type": "markdown",
   "id": "2448dd7e-7a4e-4dd8-af9c-8017a18e7742",
   "metadata": {},
   "source": [
    "![112212.png](attachment:a5cb7313-77a9-413d-ac67-11841971b154.png)"
   ]
  },
  {
   "cell_type": "markdown",
   "id": "36bc7155-198d-4a55-93ea-89f51c40a953",
   "metadata": {},
   "source": [
    "### Notes:"
   ]
  },
  {
   "cell_type": "markdown",
   "id": "6138e8f0-7c52-4071-9b90-765bb8eb0d59",
   "metadata": {},
   "source": [
    "#### 1:- Choice of Test: The choice of post hoc test largely depends on the nature of your data, the number of comparisons, and the balance you want to strike between the risks of Type I and Type II errors.\n",
    "#### 2:- Data Assumptions: Some tests assume normally distributed data and equal variances, while others are non-parametric and do not make these assumptions.\n",
    "#### 3:- Type I and II Errors: There's often a trade-off between the risk of Type I errors (false positives) and Type II errors (false negatives). More conservative tests (like Bonferroni) reduce the risk of Type I errors but increase the risk of Type II errors."
   ]
  },
  {
   "cell_type": "code",
   "execution_count": null,
   "id": "1f1bbb16-836c-4921-8def-51dc09662c55",
   "metadata": {},
   "outputs": [],
   "source": []
  }
 ],
 "metadata": {
  "kernelspec": {
   "display_name": "Python 3 (ipykernel)",
   "language": "python",
   "name": "python3"
  },
  "language_info": {
   "codemirror_mode": {
    "name": "ipython",
    "version": 3
   },
   "file_extension": ".py",
   "mimetype": "text/x-python",
   "name": "python",
   "nbconvert_exporter": "python",
   "pygments_lexer": "ipython3",
   "version": "3.11.7"
  }
 },
 "nbformat": 4,
 "nbformat_minor": 5
}
