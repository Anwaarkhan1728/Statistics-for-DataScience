{
 "cells": [
  {
   "cell_type": "markdown",
   "id": "add02897-dcbc-4bb4-918d-f45743026d18",
   "metadata": {},
   "source": [
    "# MANOVA"
   ]
  },
  {
   "cell_type": "markdown",
   "id": "f271f630-2ad2-4dbb-8228-c421c3caed1c",
   "metadata": {},
   "source": [
    "Manova is a multivariate extension of ANOVA. It is used to model two or more dependent variables that are continuous with one or more categorical predictor variables.\n",
    "It is often used to assess for differences between two or more groups."
   ]
  },
  {
   "cell_type": "markdown",
   "id": "a9f541fe-d871-468b-b240-9e4203d5cebc",
   "metadata": {},
   "source": [
    "To perform a Multivariate Analysis of Variance (MANOVA) in Python, we typically use the statsmodels library. \n",
    "MANOVA is used when there are two or more dependent variables and one or more independent variables.\n",
    "It tests whether the mean differences among groups on a combination of dependent variables are likely to have occurred by chance."
   ]
  },
  {
   "cell_type": "markdown",
   "id": "7accc05e-1c19-4c27-9b56-83bf710c5781",
   "metadata": {},
   "source": [
    "###### Here's an example demonstrating how to create a MANOVA table in Python:"
   ]
  },
  {
   "cell_type": "markdown",
   "id": "bccf33f0-454d-40d7-982e-cc707a5f7e36",
   "metadata": {},
   "source": [
    "#### Example: MANOVA with StatsModels"
   ]
  },
  {
   "cell_type": "markdown",
   "id": "28e647e8-6274-4834-9802-36c8c72210a1",
   "metadata": {},
   "source": [
    "Let's say we have a dataset with two dependent variables (e.g., test scores in mathematics and science) and one independent variable (e.g., teaching method).\n",
    "We want to know if there are statistically significant differences in the dependent variables across the levels of the independent variable."
   ]
  },
  {
   "cell_type": "markdown",
   "id": "1454e259-40c6-4a51-a02c-ddac522579d3",
   "metadata": {},
   "source": [
    "### Explanation:"
   ]
  },
  {
   "cell_type": "markdown",
   "id": "d4ead161-cded-4957-9d26-9fc5fabdfc40",
   "metadata": {},
   "source": [
    "1:- Dataset Preparation: The data dictionary and DataFrame (df) contain the sample data. Replace this with your actual data.\n",
    "\n",
    "2:- MANOVA Execution: The MANOVA.from_formula method is used to perform the MANOVA.\n",
    "The formula 'MathScore + ScienceScore ~ Method' indicates that MathScore and ScienceScore are dependent variables, and Method is the independent variable.\n",
    "\n",
    "Results: The mv_test() method is used to get the MANOVA test results, which are printed to the console."
   ]
  },
  {
   "cell_type": "markdown",
   "id": "385f5120-6e49-4ce6-a5bf-d86f24ebe27e",
   "metadata": {},
   "source": [
    "This script will output the MANOVA table, including Pillai's trace, Wilks' lambda, Hotelling-Lawley trace, and Roy's greatest root test statistics, along with their associated F-values, degrees of freedom, and p-values.\n",
    "These results will help you determine if there are statistically significant differences in the dependent variables across the levels of the independent variable."
   ]
  },
  {
   "cell_type": "code",
   "execution_count": 1,
   "id": "fd5ceaae-4bbd-488c-8965-c54934d9d954",
   "metadata": {},
   "outputs": [
    {
     "name": "stdout",
     "output_type": "stream",
     "text": [
      "  Method  MathScore  ScienceScore\n",
      "0      A         20            30\n",
      "1      A         22            28\n",
      "2      A         21            29\n",
      "3      B         19            33\n",
      "4      B         18            32\n",
      "5      B         20            31\n",
      "6      C         22            29\n",
      "7      C         23            27\n",
      "8      C         21            28\n",
      "                   Multivariate linear model\n",
      "================================================================\n",
      "                                                                \n",
      "----------------------------------------------------------------\n",
      "       Intercept          Value   Num DF Den DF  F Value  Pr > F\n",
      "----------------------------------------------------------------\n",
      "          Wilks' lambda    0.0005 2.0000 5.0000 4711.5000 0.0000\n",
      "         Pillai's trace    0.9995 2.0000 5.0000 4711.5000 0.0000\n",
      " Hotelling-Lawley trace 1884.6000 2.0000 5.0000 4711.5000 0.0000\n",
      "    Roy's greatest root 1884.6000 2.0000 5.0000 4711.5000 0.0000\n",
      "----------------------------------------------------------------\n",
      "                                                                \n",
      "----------------------------------------------------------------\n",
      "             Method         Value  Num DF  Den DF F Value Pr > F\n",
      "----------------------------------------------------------------\n",
      "              Wilks' lambda 0.1802 4.0000 10.0000  3.3896 0.0534\n",
      "             Pillai's trace 0.8468 4.0000 12.0000  2.2031 0.1301\n",
      "     Hotelling-Lawley trace 4.4000 4.0000  5.1429  5.4000 0.0444\n",
      "        Roy's greatest root 4.3656 2.0000  6.0000 13.0969 0.0065\n",
      "================================================================\n",
      "\n"
     ]
    }
   ],
   "source": [
    "import pandas as pd\n",
    "import statsmodels.api as sm\n",
    "from statsmodels.multivariate.manova import MANOVA\n",
    "\n",
    "# Example dataset\n",
    "data = {\n",
    "    'Method': ['A', 'A', 'A', 'B', 'B', 'B', 'C', 'C', 'C'],\n",
    "    'MathScore': [20, 22, 21, 19, 18, 20, 22, 23, 21],\n",
    "    'ScienceScore': [30, 28, 29, 33, 32, 31, 29, 27, 28]\n",
    "}\n",
    "\n",
    "df = pd.DataFrame(data)\n",
    "print(df.head(10))\n",
    "# Perform MANOVA\n",
    "maov = MANOVA.from_formula('MathScore + ScienceScore ~ Method', data=df)\n",
    "print(maov.mv_test())"
   ]
  },
  {
   "cell_type": "markdown",
   "id": "ec115789-7315-44f6-91b9-1fa49262af59",
   "metadata": {},
   "source": [
    "## Interpertation of MANOVA Results"
   ]
  },
  {
   "cell_type": "markdown",
   "id": "77ad4292-4292-4cba-9cf6-89c8d49938ba",
   "metadata": {},
   "source": [
    "The MANOVA results provided contain two main parts: \n",
    "the test statistics associated with the intercept and the test statistics associated with the independent variable (Method).\n",
    "Each part includes four different test statistics:\n",
    "Wilks' lambda, Pillai's trace, Hotelling-Lawley trace, and Roy's greatest root. \n",
    "\n",
    "Let's interpret these results:"
   ]
  },
  {
   "cell_type": "markdown",
   "id": "56514233-cfe5-4dba-bc8c-95c14f6207d7",
   "metadata": {},
   "source": [
    "#### Intercept Part"
   ]
  },
  {
   "cell_type": "markdown",
   "id": "51878573-a604-46f9-8baf-9a07f9498e19",
   "metadata": {},
   "source": [
    "1:- Wilks' Lambda: A value close to 0 (0.0005) with a significant F-value (4711.5) and a p-value of 0.0000 indicates that the model with the intercept is significantly different from a model without the intercept.\n",
    "\n",
    "2:- Pillai's Trace: Similar to Wilks' lambda, a value close to 1 (0.9995) with a significant F-value and p-value indicates strong model significance.\n",
    "\n",
    "3:- Hotelling-Lawley Trace: A very high value (1884.6) with a significant F-value and p-value also suggests strong model significance.\n",
    "\n",
    "4:- Roy's Greatest Root: Like Hotelling-Lawley trace, a high value (1884.6) with a significant F-value and p-value indicates the model's significance."
   ]
  },
  {
   "cell_type": "markdown",
   "id": "276fda77-97ed-4219-aa41-3e8a973cc032",
   "metadata": {},
   "source": [
    "#### Method Part"
   ]
  },
  {
   "cell_type": "markdown",
   "id": "54887576-8107-4fa5-9958-5fd0eecad616",
   "metadata": {},
   "source": [
    "1:- Wilks' Lambda: A value of 0.1802 with an F-value of 3.3896 and a p-value of 0.0534.\n",
    "This p-value is marginally above the typical alpha level of 0.05, suggesting that the differences in group means are not quite statistically significant at the 5% level.\n",
    "\n",
    "2:- Pillai's Trace: A value of 0.8468, F-value of 2.2031, and a p-value of 0.1301.\n",
    "This result further indicates that the group means are not significantly different, as the p-value is above 0.05.\n",
    "\n",
    "3:- Hotelling-Lawley Trace: A value of 4.4 with an F-value of 5.4 and a p-value of 0.0444.\n",
    "This p-value is below 0.05, indicating significant differences in the group means.\n",
    "\n",
    "4:- Roy's Greatest Root: A value of 4.3656, with an F-value of 13.0969 and a p-value of 0.0065.\n",
    "This result suggests significant differences in the group means, as indicated by this low p-value."
   ]
  },
  {
   "cell_type": "markdown",
   "id": "31e65702-01f0-4063-ab2a-bdcf078aeb78",
   "metadata": {},
   "source": [
    "# Overall Interpretation"
   ]
  },
  {
   "cell_type": "markdown",
   "id": "164de201-a730-40e9-88dd-22ea4870a412",
   "metadata": {},
   "source": [
    "The significant intercept part indicates that the overall model is significant.\n",
    "\n",
    "\n",
    "For the Method part, different test statistics provide somewhat conflicting results. \n",
    "Wilks' Lambda and Pillai's Trace suggest that the means of different methods are not significantly different, while Hotelling-Lawley Trace and Roy's Greatest Root suggest significant differences.\n",
    "\n",
    "\n",
    "Such discrepancies can occur due to the sensitivity of each test to different assumptions and data characteristics. In practice, when results conflict, it's often advisable to further investigate the data, potentially considering other forms of analysis or looking into specific pairwise comparisons for more insights."
   ]
  }
 ],
 "metadata": {
  "kernelspec": {
   "display_name": "Python 3 (ipykernel)",
   "language": "python",
   "name": "python3"
  },
  "language_info": {
   "codemirror_mode": {
    "name": "ipython",
    "version": 3
   },
   "file_extension": ".py",
   "mimetype": "text/x-python",
   "name": "python",
   "nbconvert_exporter": "python",
   "pygments_lexer": "ipython3",
   "version": "3.11.7"
  }
 },
 "nbformat": 4,
 "nbformat_minor": 5
}
