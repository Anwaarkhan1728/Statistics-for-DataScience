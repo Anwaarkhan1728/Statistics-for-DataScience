{
 "cells": [
  {
   "cell_type": "markdown",
   "id": "fd5e9a1b-fc41-4dcd-a1ff-645d8bb99490",
   "metadata": {},
   "source": [
    "# 1:- Leven's test"
   ]
  },
  {
   "cell_type": "code",
   "execution_count": 6,
   "id": "8538b758-ed28-48fa-a6c1-d9624e202cb3",
   "metadata": {},
   "outputs": [
    {
     "name": "stdout",
     "output_type": "stream",
     "text": [
      "w_statistics : 0.44651162790697696\n",
      "p_value : 0.5228039334796065\n",
      "p_value: 0.5228039334796065,Variance is equal (fail to reject H0)\n"
     ]
    }
   ],
   "source": [
    "# two sample t test\n",
    "\n",
    "import scipy.stats as stats\n",
    "\n",
    "# sample data\n",
    "\n",
    "G1= [2.3, 3.4, 4.5, 2.3, 3.4]\n",
    "G2= [1.2, 2.2, 3.2, 2.2, 2.3]\n",
    "\n",
    "# preform independent two sample t_test\n",
    "\n",
    "w_stats, p_value= stats.levene(G1, G2)\n",
    "\n",
    "# print the results\n",
    "print(\"w_statistics :\", w_stats)\n",
    "print(\"p_value :\", p_value)\n",
    "\n",
    "# print the results using if else condition\n",
    "if p_value>0.05:\n",
    "    print(f'p_value: {p_value},Variance is equal (fail to reject H0)')\n",
    "else:\n",
    "    print(f'p_value: {p_value}, Variance is not equal (reject H0)')"
   ]
  },
  {
   "cell_type": "markdown",
   "id": "7ece4368-b97f-4995-8053-51e79d1ffc22",
   "metadata": {},
   "source": [
    "# 2:- Bartlett's Test"
   ]
  },
  {
   "cell_type": "code",
   "execution_count": 7,
   "id": "7c389dd4-0b8f-410f-a038-7c74b152eeb8",
   "metadata": {},
   "outputs": [
    {
     "name": "stdout",
     "output_type": "stream",
     "text": [
      "w_statistics : 0.24050679805097827\n",
      "p_value : 0.6238403179343277\n",
      "p_value: 0.6238403179343277,Variance is equal (fail to reject H0)\n"
     ]
    }
   ],
   "source": [
    "# two sample t test\n",
    "\n",
    "import scipy.stats as stats\n",
    "\n",
    "# sample data\n",
    "\n",
    "G1= [2.3, 3.4, 4.5, 2.3, 3.4]\n",
    "G2= [1.2, 2.2, 3.2, 2.2, 2.3]\n",
    "\n",
    "# preform independent two sample t_test\n",
    "\n",
    "w_stats, p_value= stats.bartlett(G1, G2)\n",
    "\n",
    "# print the results\n",
    "print(\"w_statistics :\", w_stats)\n",
    "print(\"p_value :\", p_value)\n",
    "\n",
    "# print the results using if else condition\n",
    "if p_value>0.05:\n",
    "    print(f'p_value: {p_value},Variance is equal (fail to reject H0)')\n",
    "else:\n",
    "    print(f'p_value: {p_value}, Variance is not equal (reject H0)')"
   ]
  },
  {
   "cell_type": "code",
   "execution_count": null,
   "id": "8573ba24-5b1e-4155-92c2-4ea25ed88e35",
   "metadata": {},
   "outputs": [],
   "source": []
  }
 ],
 "metadata": {
  "kernelspec": {
   "display_name": "Python 3 (ipykernel)",
   "language": "python",
   "name": "python3"
  },
  "language_info": {
   "codemirror_mode": {
    "name": "ipython",
    "version": 3
   },
   "file_extension": ".py",
   "mimetype": "text/x-python",
   "name": "python",
   "nbconvert_exporter": "python",
   "pygments_lexer": "ipython3",
   "version": "3.11.7"
  }
 },
 "nbformat": 4,
 "nbformat_minor": 5
}
