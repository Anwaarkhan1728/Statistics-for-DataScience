{
 "cells": [
  {
   "cell_type": "markdown",
   "id": "5cf18a3c-1b63-4785-99df-0c83f18a79e5",
   "metadata": {},
   "source": [
    "### **Definitions and Interpretation:**\n",
    "1. **Mean (Average):**\n",
    "   - It represents the arithmetic average of the data.\n",
    "   - **Use:** Useful to understand the central value when data does not have extreme outliers.\n",
    "\n",
    "3. **Median:**\n",
    "   - The middle value when data is ordered. If the dataset has an even number of values, it's the average of the two middle values.\n",
    "   - **Use:** Gives a better central tendency in the presence of outliers.\n",
    "\n",
    "4. **Mode:**\n",
    "   - The most frequently occurring value in the dataset.\n",
    "   - **Use:** Helps identify the most common value in categorical or continuous data.\n",
    "\n",
    "5. **Variance (Var):**\n",
    "   - Indicates how much the data points spread out from the mean.\n",
    "   - **Use:** Helps measure the consistency or variability in data.\n",
    "\n",
    "6. **Standard Deviation (SD):**\n",
    "   - Provides the average amount by which each data point deviates from the mean.\n",
    "   - **Use:** Standardizes the spread and gives an intuitive sense of variability.\n",
    "\n",
    "7. **Quantiles:**\n",
    "   - Divide the data into intervals containing an equal number of data points.\n",
    "   - Common quantiles: \n",
    "     - **Quartiles (Q1, Q2/Median, Q3):** Split data into four parts.\n",
    "     - **Percentiles:** Divide into 100 equal parts.\n",
    "   - **Use:** Analyze how data points are distributed."
   ]
  },
  {
   "cell_type": "code",
   "execution_count": 4,
   "id": "203c5654-4824-4fda-9e65-d0771d002802",
   "metadata": {},
   "outputs": [
    {
     "name": "stdout",
     "output_type": "stream",
     "text": [
      "Mean: 10.909090909090908\n",
      "Median: 10.0\n",
      "Variance: 33.09090909090909\n",
      "Standard Deviation: 5.752469825293227\n",
      "Quantiles (Q1, Median, Q3): [ 7. 10. 15.]\n"
     ]
    }
   ],
   "source": [
    "import numpy as np\n",
    "import scipy.stats as stats\n",
    "\n",
    "# Example dataset\n",
    "data = [2, 4, 6, 8, 10, 10, 12, 14, 16, 18, 20]\n",
    "\n",
    "# Calculating the statistics\n",
    "mean = np.mean(data)\n",
    "median = np.median(data)\n",
    "#mode = stats.mode(data).mode[0]\n",
    "variance = np.var(data, ddof=1)  # Sample variance\n",
    "std_dev = np.std(data, ddof=1)  # Sample standard deviation\n",
    "quantiles = np.quantile(data, [0.25, 0.5, 0.75])  # Q1, Median, Q3\n",
    "\n",
    "# Displaying the results\n",
    "print(\"Mean:\", mean)\n",
    "print(\"Median:\", median)\n",
    "#print(\"Mode:\", mode)\n",
    "print(\"Variance:\", variance)\n",
    "print(\"Standard Deviation:\", std_dev)\n",
    "print(\"Quantiles (Q1, Median, Q3):\", quantiles)\n"
   ]
  },
  {
   "cell_type": "code",
   "execution_count": null,
   "id": "ac2533a9-2a49-4f48-8d91-9e6c8175cbc7",
   "metadata": {},
   "outputs": [],
   "source": []
  }
 ],
 "metadata": {
  "kernelspec": {
   "display_name": "Python 3 (ipykernel)",
   "language": "python",
   "name": "python3"
  },
  "language_info": {
   "codemirror_mode": {
    "name": "ipython",
    "version": 3
   },
   "file_extension": ".py",
   "mimetype": "text/x-python",
   "name": "python",
   "nbconvert_exporter": "python",
   "pygments_lexer": "ipython3",
   "version": "3.11.7"
  }
 },
 "nbformat": 4,
 "nbformat_minor": 5
}
